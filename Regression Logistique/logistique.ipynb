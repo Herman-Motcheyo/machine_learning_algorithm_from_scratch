{
 "cells": [
  {
   "cell_type": "code",
   "execution_count": 2,
   "metadata": {},
   "outputs": [],
   "source": [
    "import numpy as np\n",
    "import pandas as pd\n",
    "from sklearn.model_selection  import train_test_split"
   ]
  },
  {
   "cell_type": "code",
   "execution_count": null,
   "metadata": {},
   "outputs": [],
   "source": []
  },
  {
   "cell_type": "code",
   "execution_count": null,
   "metadata": {},
   "outputs": [],
   "source": []
  },
  {
   "cell_type": "code",
   "execution_count": 12,
   "metadata": {},
   "outputs": [],
   "source": [
    "class RegressionLogistique():\n",
    "    \n",
    "    def __init__(self , learning_rate = 0.01 , nbIter = 1000):\n",
    "        self.learning_rate = learning_rate\n",
    "        self.nbIter = nbIter\n",
    "        self.w = None\n",
    "        self.b0 = None\n",
    "        \n",
    "    def _sigmoid(self ,x):\n",
    "        return 1/(1+np.exp(-x))\n",
    "\n",
    "        \n",
    "    # pour apprendre le modele\n",
    "    def train(self,  data , target):\n",
    "        if(data.shape[0] != target.shape[0]):\n",
    "            raise ValueError(\" les données doivent avoir la meme taille\")\n",
    "        n_observation ,n_feature = data.shape # le nombre d'observation et de feature        \n",
    "        \n",
    "        self.w = np.zeros(n_feature)\n",
    "        self.b0 = 0\n",
    "        \n",
    "        #puisque minimiser la fonction de cout de la fonction logistique n'est pas analytiquement facile ,\n",
    "        #nous allons utilisee  la descente de gradiant simple\n",
    "        \n",
    "        for _ in range(self.nbIter):\n",
    "            #f(x) = WtX + b\n",
    "            # Ypre = 1/(1+ exp(-fx))\n",
    "            f_x  = np.dot( data ,self.w ) + self.b0\n",
    "            Ypre = self._sigmoid(f_x);\n",
    "            \n",
    "            #gradiant de g = 1/n * SUM(y - ypre) * xi\n",
    "            dw = 1/n_observation*(np.dot(data.T , (target - Ypre))) \n",
    "            db0 = 1/n_observation * (np.sum((target - Ypre)))\n",
    "            \n",
    "            #Mise à jour \n",
    "            \n",
    "            self.w -= self.learning_rate*dw\n",
    "            self.b0 -= self.learning_rate *db0\n",
    "        print(self.w , \"le biais\" ,self.b0 )\n",
    "        \n",
    "    def inference(self , x_test):\n",
    "            #Yi =   1 /(1+exp(-(Wx +b)))\n",
    "       # print(np.dot( x_test ,  self.w ) + self.b0)\n",
    "        ypredict = self._sigmoid(np.dot( x_test ,  self.w ) + self.b0)\n",
    "        for i in range(len(ypredict)) : \n",
    "            if ypredict[i] >= 0.5:\n",
    "                ypredict[i] =1\n",
    "            else:\n",
    "                ypredict[i] = 0\n",
    "        print(ypredict[:30])\n",
    "        return ypredict\n",
    "        "
   ]
  },
  {
   "cell_type": "code",
   "execution_count": 4,
   "metadata": {},
   "outputs": [],
   "source": [
    "spams = pd.read_csv(\"./spam.csv\", header = 0, encoding = 'ISO-8859-14', sep = ',' )\n"
   ]
  },
  {
   "cell_type": "code",
   "execution_count": 5,
   "metadata": {},
   "outputs": [
    {
     "data": {
      "text/html": [
       "<div>\n",
       "<style scoped>\n",
       "    .dataframe tbody tr th:only-of-type {\n",
       "        vertical-align: middle;\n",
       "    }\n",
       "\n",
       "    .dataframe tbody tr th {\n",
       "        vertical-align: top;\n",
       "    }\n",
       "\n",
       "    .dataframe thead th {\n",
       "        text-align: right;\n",
       "    }\n",
       "</style>\n",
       "<table border=\"1\" class=\"dataframe\">\n",
       "  <thead>\n",
       "    <tr style=\"text-align: right;\">\n",
       "      <th></th>\n",
       "      <th>v1</th>\n",
       "      <th>v2</th>\n",
       "      <th>Unnamed: 2</th>\n",
       "      <th>Unnamed: 3</th>\n",
       "      <th>Unnamed: 4</th>\n",
       "    </tr>\n",
       "  </thead>\n",
       "  <tbody>\n",
       "    <tr>\n",
       "      <th>count</th>\n",
       "      <td>5572</td>\n",
       "      <td>5572</td>\n",
       "      <td>50</td>\n",
       "      <td>12</td>\n",
       "      <td>6</td>\n",
       "    </tr>\n",
       "    <tr>\n",
       "      <th>unique</th>\n",
       "      <td>2</td>\n",
       "      <td>5169</td>\n",
       "      <td>43</td>\n",
       "      <td>10</td>\n",
       "      <td>5</td>\n",
       "    </tr>\n",
       "    <tr>\n",
       "      <th>top</th>\n",
       "      <td>ham</td>\n",
       "      <td>Sorry, I'll call later</td>\n",
       "      <td>bt not his girlfrnd... G o o d n i g h t . . .@\"</td>\n",
       "      <td>MK17 92H. 450Ppw 16\"</td>\n",
       "      <td>GNT:-)\"</td>\n",
       "    </tr>\n",
       "    <tr>\n",
       "      <th>freq</th>\n",
       "      <td>4825</td>\n",
       "      <td>30</td>\n",
       "      <td>3</td>\n",
       "      <td>2</td>\n",
       "      <td>2</td>\n",
       "    </tr>\n",
       "  </tbody>\n",
       "</table>\n",
       "</div>"
      ],
      "text/plain": [
       "          v1                      v2  \\\n",
       "count   5572                    5572   \n",
       "unique     2                    5169   \n",
       "top      ham  Sorry, I'll call later   \n",
       "freq    4825                      30   \n",
       "\n",
       "                                               Unnamed: 2  \\\n",
       "count                                                  50   \n",
       "unique                                                 43   \n",
       "top      bt not his girlfrnd... G o o d n i g h t . . .@\"   \n",
       "freq                                                    3   \n",
       "\n",
       "                   Unnamed: 3 Unnamed: 4  \n",
       "count                      12          6  \n",
       "unique                     10          5  \n",
       "top      MK17 92H. 450Ppw 16\"    GNT:-)\"  \n",
       "freq                        2          2  "
      ]
     },
     "execution_count": 5,
     "metadata": {},
     "output_type": "execute_result"
    }
   ],
   "source": [
    "spams.describe()"
   ]
  },
  {
   "cell_type": "code",
   "execution_count": 6,
   "metadata": {},
   "outputs": [
    {
     "data": {
      "text/html": [
       "<div>\n",
       "<style scoped>\n",
       "    .dataframe tbody tr th:only-of-type {\n",
       "        vertical-align: middle;\n",
       "    }\n",
       "\n",
       "    .dataframe tbody tr th {\n",
       "        vertical-align: top;\n",
       "    }\n",
       "\n",
       "    .dataframe thead th {\n",
       "        text-align: right;\n",
       "    }\n",
       "</style>\n",
       "<table border=\"1\" class=\"dataframe\">\n",
       "  <thead>\n",
       "    <tr style=\"text-align: right;\">\n",
       "      <th></th>\n",
       "      <th>class</th>\n",
       "      <th>text</th>\n",
       "    </tr>\n",
       "  </thead>\n",
       "  <tbody>\n",
       "    <tr>\n",
       "      <th>0</th>\n",
       "      <td>ham</td>\n",
       "      <td>Go until jurong point, crazy.. Available only ...</td>\n",
       "    </tr>\n",
       "    <tr>\n",
       "      <th>1</th>\n",
       "      <td>ham</td>\n",
       "      <td>Ok lar... Joking wif u oni...</td>\n",
       "    </tr>\n",
       "    <tr>\n",
       "      <th>2</th>\n",
       "      <td>spam</td>\n",
       "      <td>Free entry in 2 a wkly comp to win FA Cup fina...</td>\n",
       "    </tr>\n",
       "    <tr>\n",
       "      <th>3</th>\n",
       "      <td>ham</td>\n",
       "      <td>U dun say so early hor... U c already then say...</td>\n",
       "    </tr>\n",
       "    <tr>\n",
       "      <th>4</th>\n",
       "      <td>ham</td>\n",
       "      <td>Nah I don't think he goes to usf, he lives aro...</td>\n",
       "    </tr>\n",
       "  </tbody>\n",
       "</table>\n",
       "</div>"
      ],
      "text/plain": [
       "  class                                               text\n",
       "0   ham  Go until jurong point, crazy.. Available only ...\n",
       "1   ham                      Ok lar... Joking wif u oni...\n",
       "2  spam  Free entry in 2 a wkly comp to win FA Cup fina...\n",
       "3   ham  U dun say so early hor... U c already then say...\n",
       "4   ham  Nah I don't think he goes to usf, he lives aro..."
      ]
     },
     "execution_count": 6,
     "metadata": {},
     "output_type": "execute_result"
    }
   ],
   "source": [
    "spams = spams[['v1', 'v2']] #on recupere les 2 colonnes les plus importantes\n",
    "spams.columns = ['class', 'text'] #on renomme\n",
    "spams.head()"
   ]
  },
  {
   "cell_type": "code",
   "execution_count": 7,
   "metadata": {},
   "outputs": [],
   "source": [
    "from sklearn.feature_extraction.text import  CountVectorizer\n",
    "\n",
    "# on instancie le converteur de donnees texte de sklearn\n",
    "data_converter = CountVectorizer()\n",
    "v = data_converter.fit(spams.text)\n",
    "# on realise la conversion\n",
    "spam_convert = data_converter.fit_transform(spams.text)\n",
    "data = spam_convert.toarray()"
   ]
  },
  {
   "cell_type": "code",
   "execution_count": 13,
   "metadata": {},
   "outputs": [],
   "source": [
    "\n",
    "def binarisation(test_labels):\n",
    "    target= []\n",
    "    for label in test_labels :\n",
    "        if label ==\"ham\":\n",
    "            target.append(0)\n",
    "        else:\n",
    "            target.append(1)\n",
    "    return np.array(target)\n",
    "\n",
    "target= binarisation(spams[\"text\"])"
   ]
  },
  {
   "cell_type": "code",
   "execution_count": null,
   "metadata": {},
   "outputs": [],
   "source": [
    "x_train, x_test, y_train, y_test = train_test_split( data, target, train_size=0.6, test_size=0.4, stratify= target)\n",
    "RL = RegressionLogistique()\n",
    "RL.train(x_train , y_train)\n",
    "RL.inference(x_test)"
   ]
  }
 ],
 "metadata": {
  "interpreter": {
   "hash": "b46ed5f6485a8d013c4701843ad05dfa0e96832f09bc8129fc61b4fd409db977"
  },
  "kernelspec": {
   "display_name": "Python 3 (ipykernel)",
   "language": "python",
   "name": "python3"
  },
  "language_info": {
   "codemirror_mode": {
    "name": "ipython",
    "version": 3
   },
   "file_extension": ".py",
   "mimetype": "text/x-python",
   "name": "python",
   "nbconvert_exporter": "python",
   "pygments_lexer": "ipython3",
   "version": "3.8.5"
  }
 },
 "nbformat": 4,
 "nbformat_minor": 4
}
