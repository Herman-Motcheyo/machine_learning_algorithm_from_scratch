{
 "cells": [
  {
   "cell_type": "code",
   "execution_count": 3,
   "metadata": {},
   "outputs": [],
   "source": [
    "import pandas as pd\n",
    "import numpy as np\n",
    "from libsvm.svmutil import svm_save_model, svm_predict, svm_train, svm_load_model\n",
    "from sklearn.datasets import load_iris\n",
    "from sklearn.model_selection import train_test_split"
   ]
  },
  {
   "cell_type": "code",
   "execution_count": 4,
   "metadata": {},
   "outputs": [],
   "source": [
    "data_info= load_iris()\n",
    "X = data_info.data\n",
    "y = data_info.target\n",
    "x_train , x_test , y_train , y_test = train_test_split(X ,y, stratify = y ,train_size = 0.8 ,test_size = 0.2  )"
   ]
  },
  {
   "cell_type": "code",
   "execution_count": 5,
   "metadata": {},
   "outputs": [
    {
     "name": "stdout",
     "output_type": "stream",
     "text": [
      "*\n",
      "optimization finished, #iter = 6\n",
      "nu = 0.003629\n",
      "obj = -0.145152, rho = 1.220941\n",
      "nSV = 3, nBSV = 0\n",
      "...*.*\n",
      "optimization finished, #iter = 344\n",
      "nu = 0.109119\n",
      "obj = -7.067741, rho = -4.345675\n",
      "nSV = 11, nBSV = 7\n",
      "*\n",
      "optimization finished, #iter = 14\n",
      "nu = 0.000831\n",
      "obj = -0.033249, rho = -1.304529\n",
      "nSV = 4, nBSV = 0\n",
      "Total nSV = 16\n"
     ]
    }
   ],
   "source": [
    "model = svm_train(y_train , x_train , arg3 = \"-s 0  -c 10 -t 1 -c 1 -d 2\" )"
   ]
  },
  {
   "cell_type": "code",
   "execution_count": 6,
   "metadata": {},
   "outputs": [],
   "source": [
    "svm_save_model(\"iris_svm\" , model) #pour sauvegarder le model"
   ]
  },
  {
   "cell_type": "code",
   "execution_count": 7,
   "metadata": {},
   "outputs": [
    {
     "name": "stdout",
     "output_type": "stream",
     "text": [
      "Accuracy = 96.6667% (29/30) (classification)\n"
     ]
    }
   ],
   "source": [
    "model_load = svm_load_model(\"iris_svm\")  \n",
    "\n",
    "result = svm_predict( y_test ,x_test , model_load)"
   ]
  },
  {
   "cell_type": "code",
   "execution_count": 8,
   "metadata": {},
   "outputs": [
    {
     "data": {
      "text/plain": [
       "([1.0,\n",
       "  1.0,\n",
       "  0.0,\n",
       "  0.0,\n",
       "  1.0,\n",
       "  1.0,\n",
       "  1.0,\n",
       "  1.0,\n",
       "  0.0,\n",
       "  0.0,\n",
       "  2.0,\n",
       "  1.0,\n",
       "  2.0,\n",
       "  0.0,\n",
       "  2.0,\n",
       "  2.0,\n",
       "  1.0,\n",
       "  2.0,\n",
       "  2.0,\n",
       "  0.0,\n",
       "  0.0,\n",
       "  0.0,\n",
       "  1.0,\n",
       "  0.0,\n",
       "  0.0,\n",
       "  2.0,\n",
       "  2.0,\n",
       "  2.0,\n",
       "  1.0,\n",
       "  1.0],\n",
       " (96.66666666666667, 0.03333333333333333, 0.9516695957820738),\n",
       " [[2.541516647813263, 3.319064748043032, -0.7637540432799252],\n",
       "  [3.006238119361856, 3.27572837740881, -0.9742030481273363],\n",
       "  [-1.950931303573886, 13.532725484840967, 1.3590553127954033],\n",
       "  [-1.8902215576158503, 13.730317244243992, 1.296397969944526],\n",
       "  [2.425013144602139, 3.0844682055962513, -0.7092221371283565],\n",
       "  [4.407843545803769, 0.07008574965762104, -1.6884232934055927],\n",
       "  [3.381221901354193, 2.779366146506489, -1.2086896680461383],\n",
       "  [2.6435140071258614, 2.7978002477955632, -0.8056170663194584],\n",
       "  [-1.2823032976450768, 11.26513899203097, 1.127778332821913],\n",
       "  [-1.4500218042089807, 10.27401908868812, 1.2376454143076094],\n",
       "  [4.110832620866328, -0.44093945722026806, -1.5800601787325717],\n",
       "  [2.458857482479452, 3.943052340822006, -0.6726460692266294],\n",
       "  [5.192642423890165, -1.9340796855532725, -2.1333035759327608],\n",
       "  [-1.135277288363841, 9.959450507798024, 1.0947706733095022],\n",
       "  [4.643569415649047, -1.7406383297911399, -1.7796586203624003],\n",
       "  [5.580275092928724, -4.440472850469221, -2.4201582225881664],\n",
       "  [1.8206597079779454, 4.201236773112398, -0.38387989371921827],\n",
       "  [7.526739658752187, -4.7015747374126, -3.285825661929109],\n",
       "  [4.036517571361644, -2.164963088793159, -1.54284450802572],\n",
       "  [-1.3753079682559382, 11.139095797396806, 1.17832487304114],\n",
       "  [-1.3760199599826195, 10.938945772016595, 1.1790812602303309],\n",
       "  [-1.767828030035719, 12.384745205964748, 1.3036970281726739],\n",
       "  [3.085565915536261, 1.259188951220593, -1.0581773594300146],\n",
       "  [-1.229484637121037, 9.71356711694878, 1.1411467199788998],\n",
       "  [-1.8216526601597784, 12.798201431201633, 1.3148073538434233],\n",
       "  [8.220888903030936, -5.886002199568382, -3.6509056489999026],\n",
       "  [6.156618800456269, -3.934577532786606, -2.653877721575072],\n",
       "  [4.942090118258379, -1.7179430208791056, -2.000061151543214],\n",
       "  [4.227241850178021, 0.1911431332948288, -1.552022667997201],\n",
       "  [1.6579228623602151, 3.258515814607718, -0.20605606291034362]])"
      ]
     },
     "execution_count": 8,
     "metadata": {},
     "output_type": "execute_result"
    }
   ],
   "source": [
    "result"
   ]
  },
  {
   "cell_type": "code",
   "execution_count": null,
   "metadata": {},
   "outputs": [],
   "source": []
  },
  {
   "cell_type": "code",
   "execution_count": 9,
   "metadata": {},
   "outputs": [],
   "source": [
    "def transform_dataframe(mat, etiquettes):\n",
    "    p = pd.DataFrame(mat , columns = etiquettes)\n",
    "    p.index = etiquettes\n",
    "    return p\n",
    "    \n",
    "def confusion_matrix(y_true, y_pred, labels):\n",
    "    etiquetes = np.array(labels)\n",
    "    n = len(etiquetes)\n",
    "    matrix = np.zeros((n,n), dtype='int32')\n",
    "    y_len = len(y_true)\n",
    "    \n",
    "    for i in range(n) :\n",
    "        for j in range(n):\n",
    "            for k in range(y_len):\n",
    "                if(y_true[k] == etiquetes[i] and y_pred[k] == etiquetes[j]):\n",
    "                    matrix[i][j]+=1\n",
    "            \n",
    "    return matrix\n"
   ]
  },
  {
   "cell_type": "code",
   "execution_count": 17,
   "metadata": {},
   "outputs": [
    {
     "data": {
      "text/plain": [
       "0.9666666666666667"
      ]
     },
     "execution_count": 17,
     "metadata": {},
     "output_type": "execute_result"
    }
   ],
   "source": [
    "label_unique = np.unique(y)\n",
    "gr = confusion_matrix(y_test, result[0], label_unique)\n",
    "p = transform_dataframe(gr, label_unique)\n",
    "\n",
    "def accurancy(p):\n",
    "    summ = 0\n",
    "    s = 0\n",
    "    for i in range(p.shape[0]):\n",
    "        for j in range(p.shape[0]):\n",
    "            summ = p[i][j] +summ\n",
    "    for i in range(p.shape[0]):\n",
    "        s= p[i][i] +s\n",
    "    return s/summ\n",
    "            \n",
    "accurancy(p)"
   ]
  },
  {
   "cell_type": "code",
   "execution_count": null,
   "metadata": {},
   "outputs": [],
   "source": []
  },
  {
   "cell_type": "code",
   "execution_count": null,
   "metadata": {},
   "outputs": [],
   "source": []
  },
  {
   "cell_type": "code",
   "execution_count": null,
   "metadata": {},
   "outputs": [],
   "source": []
  },
  {
   "cell_type": "code",
   "execution_count": null,
   "metadata": {},
   "outputs": [],
   "source": []
  },
  {
   "cell_type": "code",
   "execution_count": null,
   "metadata": {},
   "outputs": [],
   "source": []
  }
 ],
 "metadata": {
  "kernelspec": {
   "display_name": "Python 3 (ipykernel)",
   "language": "python",
   "name": "python3"
  },
  "language_info": {
   "codemirror_mode": {
    "name": "ipython",
    "version": 3
   },
   "file_extension": ".py",
   "mimetype": "text/x-python",
   "name": "python",
   "nbconvert_exporter": "python",
   "pygments_lexer": "ipython3",
   "version": "3.8.5"
  }
 },
 "nbformat": 4,
 "nbformat_minor": 4
}
