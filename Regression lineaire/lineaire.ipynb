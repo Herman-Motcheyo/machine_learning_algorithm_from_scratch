{
 "cells": [
  {
   "cell_type": "code",
   "execution_count": 25,
   "metadata": {},
   "outputs": [],
   "source": [
    "from sklearn.datasets import load_diabetes\n",
    "import numpy  as np\n"
   ]
  },
  {
   "cell_type": "code",
   "execution_count": null,
   "metadata": {},
   "outputs": [],
   "source": []
  },
  {
   "cell_type": "code",
   "execution_count": 10,
   "metadata": {},
   "outputs": [
    {
     "data": {
      "text/plain": [
       "['age', 'sex', 'bmi', 'bp', 's1', 's2', 's3', 's4', 's5', 's6']"
      ]
     },
     "execution_count": 10,
     "metadata": {},
     "output_type": "execute_result"
    }
   ],
   "source": [
    "dia = load_diabetes()\n",
    "dia.feature_names"
   ]
  },
  {
   "cell_type": "code",
   "execution_count": 17,
   "metadata": {},
   "outputs": [],
   "source": [
    "class LinearRegression:\n",
    "\n",
    "    def __init__(self ,alpha = 0.001 , n_iter = 50 ):\n",
    "        self.learning_rate = alpha\n",
    "        self.iteration =  n_iter\n",
    "    \n",
    "    def gradiant_rss(self , X , y , B):\n",
    "        x = y- np.dot(X, B)\n",
    "        return -2 *np.dot( np.transpose(X) , x)\n",
    "\n",
    "    def Beta_solution(self,X , y):\n",
    "        '''\n",
    "            cette methode est tres pratique mais elle contieny des inconvenient\n",
    "            si la matrice XtX n'est pas inversible , alors on passe par une approximation\n",
    "            en ajoute une speudo inverse M comme celle de moore Penrose\n",
    "            OU  XtXMXtX = XtX\n",
    "\n",
    "            une des méthodes pour determiner M est d'utiliser la méthode SVD de XtX\n",
    "            avec M = (U *sigma *Vt)-1 //-1  = inverse\n",
    "        '''\n",
    "        return np.linalg.inv(np.transpose(X).dot(X)).dot(X.T).dot(y)\n",
    "    \n",
    "    def train(data , target):\n",
    "        \n",
    "        pass\n",
    "\n",
    "    \n"
   ]
  },
  {
   "cell_type": "code",
   "execution_count": 19,
   "metadata": {},
   "outputs": [
    {
     "data": {
      "text/plain": [
       "array([ -10.01219782, -239.81908937,  519.83978679,  324.39042769,\n",
       "       -792.18416163,  476.74583782,  101.04457032,  177.06417623,\n",
       "        751.27932109,   67.62538639])"
      ]
     },
     "execution_count": 19,
     "metadata": {},
     "output_type": "execute_result"
    }
   ],
   "source": [
    "\n",
    "\n",
    "lr = LinearRegression()\n",
    "lr.gradiant_rss(dia.data , dia.target ,[1,2,5,4,8,7,8,7,5,4])\n",
    "lr.Beta_solution(dia.data , dia.target )\n",
    "\n"
   ]
  },
  {
   "cell_type": "code",
   "execution_count": null,
   "metadata": {},
   "outputs": [],
   "source": []
  }
 ],
 "metadata": {
  "interpreter": {
   "hash": "b46ed5f6485a8d013c4701843ad05dfa0e96832f09bc8129fc61b4fd409db977"
  },
  "kernelspec": {
   "display_name": "Python 3.8.5 64-bit ('base': conda)",
   "name": "python3"
  },
  "language_info": {
   "codemirror_mode": {
    "name": "ipython",
    "version": 3
   },
   "file_extension": ".py",
   "mimetype": "text/x-python",
   "name": "python",
   "nbconvert_exporter": "python",
   "pygments_lexer": "ipython3",
   "version": "3.8.5"
  },
  "orig_nbformat": 4
 },
 "nbformat": 4,
 "nbformat_minor": 2
}