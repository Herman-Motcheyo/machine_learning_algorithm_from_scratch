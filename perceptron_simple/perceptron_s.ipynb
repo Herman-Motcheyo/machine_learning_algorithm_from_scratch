{
 "cells": [
  {
   "cell_type": "code",
   "execution_count": 1,
   "metadata": {},
   "outputs": [],
   "source": [
    "import pandas as pd\n",
    "import numpy as np"
   ]
  },
  {
   "cell_type": "code",
   "execution_count": null,
   "metadata": {},
   "outputs": [],
   "source": []
  },
  {
   "cell_type": "code",
   "execution_count": 57,
   "metadata": {},
   "outputs": [],
   "source": [
    "class Perceptron_Simple:\n",
    "\n",
    "\n",
    "    def __init__(self , learning_rate = 0.1 , nbIter = 10):\n",
    "        self.learning_rate = learning_rate\n",
    "        self.epoch = nbIter\n",
    "        self.weigth = None\n",
    "        self.biais = None\n",
    "    \n",
    "    def heavyside(self , val):\n",
    "        if val>= 0 :\n",
    "            return 1\n",
    "        else :\n",
    "            return 0\n",
    "    \n",
    "    def train(self , data, target ):\n",
    "\n",
    "        self.weigth = np.zeros(data.shape[1])\n",
    "        self.biais = 0\n",
    "        \n",
    "        for i in range(self.epoch):\n",
    "            #enumerate permet de parcourir chaque observation(ligne) avec numpy \n",
    "            for indice , Xi in enumerate(data):\n",
    "                #delta =SUM Wi*Xi\n",
    "                delta = np.dot(Xi , self.weigth)+self.biais\n",
    "                Ypre = self.heavyside(delta) # on passe à la fonction d'activation\n",
    "                \n",
    "                #calcul de l'erreur ya erreur\n",
    "                erreur  = target[indice] - Ypre\n",
    "                \n",
    "                #Mise à jour du poids et bais\n",
    "                self.weigth +=self.learning_rate *Xi*erreur\n",
    "                self.biais += self.learning_rate * erreur\n",
    "        print(self.biais)\n",
    "        print(self.weigth)\n",
    "\n",
    "\n",
    "    def inference(self ,data_predict ):\n",
    "      pass                  \n"
   ]
  },
  {
   "cell_type": "code",
   "execution_count": 58,
   "metadata": {},
   "outputs": [
    {
     "name": "stdout",
     "output_type": "stream",
     "text": [
      "[]\n",
      "[0.]\n",
      "[0. 0.]\n"
     ]
    }
   ],
   "source": [
    "inputs = np.array([[1,1],[0,1],[1,0],[1,1]])\n",
    "\n",
    "\n",
    "ANDtargets = np.array([[0],[0],[0],[1]])\n",
    "print(inputs[:0])\n",
    "ps = Perceptron_Simple()\n",
    "ps.train(inputs , ANDtargets )\n"
   ]
  },
  {
   "cell_type": "code",
   "execution_count": 59,
   "metadata": {},
   "outputs": [
    {
     "name": "stdout",
     "output_type": "stream",
     "text": [
      "[1 1 1]\n",
      "[2.4 2.4 2.4]\n",
      "10.2\n"
     ]
    }
   ],
   "source": [
    "weigth = np.array([1 for i in range(3)])\n",
    "x = np.array([2.4 for i in range(3)])\n",
    "print(weigth)\n",
    "print(x)\n",
    "print(sum(weigth + x))"
   ]
  },
  {
   "cell_type": "code",
   "execution_count": 60,
   "metadata": {},
   "outputs": [
    {
     "name": "stdout",
     "output_type": "stream",
     "text": [
      "(0, array([1, 1]))\n",
      "(1, array([0, 1]))\n",
      "(2, array([1, 0]))\n",
      "(3, array([1, 1]))\n"
     ]
    }
   ],
   "source": [
    " for x in enumerate(inputs):\n",
    "        print(x)"
   ]
  },
  {
   "cell_type": "code",
   "execution_count": 61,
   "metadata": {},
   "outputs": [
    {
     "data": {
      "text/plain": [
       "[1, 0, 0]"
      ]
     },
     "execution_count": 61,
     "metadata": {},
     "output_type": "execute_result"
    }
   ],
   "source": [
    "def heavyside( val):\n",
    "    Y = [1 if i>= 0  else 0 for i  in val]\n",
    "    return Y\n",
    "heavyside([1,-13 ,-67])    "
   ]
  }
 ],
 "metadata": {
  "interpreter": {
   "hash": "b46ed5f6485a8d013c4701843ad05dfa0e96832f09bc8129fc61b4fd409db977"
  },
  "kernelspec": {
   "display_name": "Python 3 (ipykernel)",
   "language": "python",
   "name": "python3"
  },
  "language_info": {
   "codemirror_mode": {
    "name": "ipython",
    "version": 3
   },
   "file_extension": ".py",
   "mimetype": "text/x-python",
   "name": "python",
   "nbconvert_exporter": "python",
   "pygments_lexer": "ipython3",
   "version": "3.8.5"
  }
 },
 "nbformat": 4,
 "nbformat_minor": 4
}
