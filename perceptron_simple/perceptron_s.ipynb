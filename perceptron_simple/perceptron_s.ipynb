{
 "cells": [
  {
   "cell_type": "code",
   "execution_count": 140,
   "metadata": {},
   "outputs": [],
   "source": [
    "import pandas as pd\n",
    "import numpy as np"
   ]
  },
  {
   "cell_type": "code",
   "execution_count": null,
   "metadata": {},
   "outputs": [],
   "source": []
  },
  {
   "cell_type": "code",
   "execution_count": 163,
   "metadata": {},
   "outputs": [],
   "source": [
    "class Perceptron_Simple:\n",
    "\n",
    "\n",
    "    def __init__(self ):\n",
    "        self.learning_rate = 0.1\n",
    "        self.weigth = np.array([])\n",
    "    \n",
    "    def heavyside(self , value):\n",
    "        if value >= 1:\n",
    "            return 1\n",
    "        else:\n",
    "            print(value)\n",
    "            return 0\n",
    "    \n",
    "    def train(self , data, target , learning_rate =0.1 , maxIter = 100):\n",
    "        self.learning_rate = learning_rate\n",
    "        dim_weigth = data.shape[1]\n",
    "        #data = np.shuffle(data)\n",
    "        weigth = np.array([0 for i in range(data.shape[1])])\n",
    "        \n",
    "        for i in range(maxIter):\n",
    "            summ = 0\n",
    "            for j in range(1  , data.shape[0]):\n",
    "                summ= sum(data[:j][0] + weigth)\n",
    "                y_predict = self.heavyside(summ)\n",
    "                if(y_predict != target[j]):\n",
    "                    weigth  = weigth + learning_rate* data[:j][0]*(y_predict-target[j][0])\n",
    "\n",
    "            if(i % 100 ==0 ):\n",
    "                print(\"epoch \" , i , \"Erreur \" ,y_predict-target[j][0] )    \n",
    "\n",
    "        self.weigth = weigth  \n",
    "\n",
    "    def fit(self ,data_predict ):\n",
    "      #  summ = sum(self.weigth * data_predict[0])                  \n"
   ]
  },
  {
   "cell_type": "code",
   "execution_count": 162,
   "metadata": {},
   "outputs": [
    {
     "name": "stdout",
     "output_type": "stream",
     "text": [
      "[]\n",
      "epoch  0 Erreur  1\n",
      "epoch  0 Erreur  1\n",
      "epoch  0 Erreur  0\n",
      "epoch  100 Erreur  1\n",
      "epoch  100 Erreur  1\n",
      "epoch  100 Erreur  0\n",
      "epoch  200 Erreur  1\n",
      "epoch  200 Erreur  1\n",
      "epoch  200 Erreur  0\n",
      "epoch  300 Erreur  1\n",
      "epoch  300 Erreur  1\n",
      "epoch  300 Erreur  0\n",
      "epoch  400 Erreur  1\n",
      "epoch  400 Erreur  1\n",
      "epoch  400 Erreur  0\n"
     ]
    }
   ],
   "source": [
    "inputs = np.array([[1,1],[0,1],[1,0],[1,1]])\n",
    "\n",
    "\n",
    "ANDtargets = np.array([[0],[0],[0],[1]])\n",
    "print(inputs[:0])\n",
    "ps = Perceptron_Simple()\n",
    "ps.train(inputs , ANDtargets , maxIter=500)\n"
   ]
  },
  {
   "cell_type": "code",
   "execution_count": null,
   "metadata": {},
   "outputs": [
    {
     "name": "stdout",
     "output_type": "stream",
     "text": [
      "[1 1 1]\n",
      "[2.4 2.4 2.4]\n",
      "10.2\n"
     ]
    }
   ],
   "source": [
    "weigth = np.array([1 for i in range(3)])\n",
    "x = np.array([2.4 for i in range(3)])\n",
    "print(weigth)\n",
    "print(x)\n",
    "print(sum(weigth + x))"
   ]
  }
 ],
 "metadata": {
  "interpreter": {
   "hash": "b46ed5f6485a8d013c4701843ad05dfa0e96832f09bc8129fc61b4fd409db977"
  },
  "kernelspec": {
   "display_name": "Python 3.8.5 64-bit ('base': conda)",
   "name": "python3"
  },
  "language_info": {
   "codemirror_mode": {
    "name": "ipython",
    "version": 3
   },
   "file_extension": ".py",
   "mimetype": "text/x-python",
   "name": "python",
   "nbconvert_exporter": "python",
   "pygments_lexer": "ipython3",
   "version": "3.8.5"
  },
  "orig_nbformat": 4
 },
 "nbformat": 4,
 "nbformat_minor": 2
}